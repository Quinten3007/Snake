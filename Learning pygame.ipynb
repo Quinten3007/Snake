{
 "cells": [
  {
   "cell_type": "code",
   "execution_count": 1,
   "metadata": {},
   "outputs": [
    {
     "name": "stdout",
     "output_type": "stream",
     "text": [
      "pygame 2.0.1 (SDL 2.0.14, Python 3.8.5)\n",
      "Hello from the pygame community. https://www.pygame.org/contribute.html\n"
     ]
    }
   ],
   "source": [
    "import pygame"
   ]
  },
  {
   "cell_type": "code",
   "execution_count": 2,
   "metadata": {},
   "outputs": [],
   "source": [
    "pygame.init()\n",
    "\n",
    "screen = pygame.display.set_mode((500, 500))\n",
    "\n",
    "running = True\n",
    "while running:\n",
    "    for event in pygame.event.get():\n",
    "        if event.type == pygame.QUIT:\n",
    "            running = False\n",
    "    \n",
    "    screen.fill((255, 255, 255))\n",
    "    pygame.draw.circle(screen, (0, 0, 255), (250, 250), 75)\n",
    "    \n",
    "    pygame.display.flip()\n",
    "    \n",
    "pygame.quit()"
   ]
  },
  {
   "cell_type": "code",
   "execution_count": null,
   "metadata": {},
   "outputs": [],
   "source": []
  },
  {
   "cell_type": "code",
   "execution_count": 3,
   "metadata": {},
   "outputs": [],
   "source": [
    "import pygame\n",
    "\n",
    "from pygame.locals import (\n",
    "    K_UP,\n",
    "    K_DOWN,\n",
    "    K_LEFT,\n",
    "    K_RIGHT,\n",
    "    K_ESCAPE,\n",
    "    KEYDOWN,\n",
    "    QUIT\n",
    ")\n",
    "\n",
    "pygame.init()\n",
    "\n",
    "\n",
    "SCREEN_WIDTH = 800\n",
    "SCREEN_HEIGHT = 600\n",
    "\n",
    "screen = pygame.display.set_mode((SCREEN_WIDTH, SCREEN_HEIGHT))\n",
    "\n",
    "running = True\n",
    "\n",
    "pos = 0\n",
    "\n",
    "while running:\n",
    "    clock = pygame.time.Clock()\n",
    "    screen.fill((255, 255, 255))\n",
    "    \n",
    "    surf = pygame.Surface((50, 50))\n",
    "    \n",
    "    surf.fill((0, 0, 0))\n",
    "    rect = surf.get_rect()\n",
    "    \n",
    "    screen.blit(surf, (pos, (SCREEN_HEIGHT-surf.get_height())/2))\n",
    "\n",
    "    for event in pygame.event.get():\n",
    "        if event.type == KEYDOWN:\n",
    "            if event.key == K_ESCAPE:\n",
    "                running = False\n",
    "        if event.type == QUIT:\n",
    "            running = False\n",
    "    \n",
    "    if pos > SCREEN_WIDTH:\n",
    "        running = False\n",
    "    \n",
    "    pygame.display.flip()\n",
    "    \n",
    "    pos += 1\n",
    "    clock.tick(120)\n",
    "\n",
    "pygame.quit()"
   ]
  },
  {
   "cell_type": "code",
   "execution_count": null,
   "metadata": {},
   "outputs": [],
   "source": []
  }
 ],
 "metadata": {
  "kernelspec": {
   "display_name": "Python 3",
   "language": "python",
   "name": "python3"
  },
  "language_info": {
   "codemirror_mode": {
    "name": "ipython",
    "version": 3
   },
   "file_extension": ".py",
   "mimetype": "text/x-python",
   "name": "python",
   "nbconvert_exporter": "python",
   "pygments_lexer": "ipython3",
   "version": "3.8.5"
  }
 },
 "nbformat": 4,
 "nbformat_minor": 4
}
